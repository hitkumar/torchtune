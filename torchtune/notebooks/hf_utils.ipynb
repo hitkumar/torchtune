{
  "cells": [
    {
      "cell_type": "code",
      "execution_count": null,
      "metadata": {},
      "outputs": [],
      "source": [
        "from peft import PeftModel\n",
        "from transformers import AutoModelForCausalLM, AutoTokenizer"
      ]
    }
  ],
  "metadata": {
    "fileHeader": "",
    "fileUid": "5f7b8084-34c4-4a39-a2ff-1d2270ec87f0",
    "isAdHoc": false,
    "kernelspec": {
      "display_name": "torchtune (local)",
      "language": "python",
      "name": "torchtune_local"
    }
  }
}
