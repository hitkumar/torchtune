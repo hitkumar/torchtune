{
  "cells": [
    {
      "cell_type": "code",
      "execution_count": null,
      "metadata": {},
      "outputs": [],
      "source": [
        "import os\n",
        "from pathlib import Path\n",
        "\n",
        "scratch = Path.home() / \"scratch\"\n",
        "os.environ[\"HF_HOME\"] = str(scratch / \"hf_home\")\n",
        "\n",
        "from transformers import AutoTokenizer\n",
        "\n",
        "CHECKPOINT_OR_NAME = 'McGill-NLP/nano-aha-moment-3b'\n",
        "CHAT_MODEL_NAME = \"Qwen/Qwen2.5-3B-Instruct\"\n",
        "tokenizer = AutoTokenizer.from_pretrained(CHECKPOINT_OR_NAME)\n",
        "len(tokenizer)"
      ]
    },
    {
      "cell_type": "code",
      "execution_count": null,
      "metadata": {},
      "outputs": [],
      "source": [
        "tokenizer.encode(\"hello world\")"
      ]
    },
    {
      "cell_type": "code",
      "execution_count": null,
      "metadata": {},
      "outputs": [],
      "source": [
        "! nvidia-smi"
      ]
    },
    {
      "cell_type": "code",
      "execution_count": null,
      "metadata": {},
      "outputs": [],
      "source": [
        "PROMPT_TEMPLATE = \"\"\"\n",
        "    Using the numbers {numbers}, create an equation that equals {target}.\n",
        "    You can use basic arithmetic operations (+, -, *, /) and each number can only be used once.\n",
        "    Show your work in <think> </think> tags. And return the final equation and answer in\n",
        "    <answer> </answer> tags, for example <answer>(1 + 2) / (3 * 5)</answer>.\n",
        "    \"\"\"\n"
      ]
    },
    {
      "cell_type": "code",
      "execution_count": null,
      "metadata": {},
      "outputs": [],
      "source": [
        "sample = {\"nums\": [7, 71, 19, 4], \"target\": 68}\n",
        "prompt = PROMPT_TEMPLATE.format(numbers=sample['nums'], target=sample['target'])\n",
        "print(prompt)"
      ]
    },
    {
      "cell_type": "code",
      "execution_count": null,
      "metadata": {},
      "outputs": [],
      "source": []
    }
  ],
  "metadata": {
    "fileHeader": "",
    "fileUid": "650124e9-baf7-483a-b4f5-e45258e99886",
    "isAdHoc": false,
    "kernelspec": {
      "display_name": "deep_rl (local)",
      "language": "python",
      "name": "deep_rl_local"
    }
  }
}
