{
  "cells": [
    {
      "cell_type": "code",
      "execution_count": 1,
      "metadata": {
        "output": {
          "id": 1463461774864810,
          "loadingStatus": "loaded"
        }
      },
      "outputs": [
        {
          "data": {
            "text/plain": [
              "151665"
            ]
          },
          "execution_count": 1,
          "metadata": {},
          "output_type": "execute_result"
        }
      ],
      "source": [
        "import os\n",
        "from pathlib import Path\n",
        "\n",
        "scratch = Path.home() / \"scratch\"\n",
        "os.environ[\"HF_HOME\"] = str(scratch / \"hf_home\")\n",
        "\n",
        "from transformers import AutoTokenizer\n",
        "\n",
        "CHECKPOINT_OR_NAME = 'McGill-NLP/nano-aha-moment-3b'\n",
        "CHAT_MODEL_NAME = \"Qwen/Qwen2.5-3B-Instruct\"\n",
        "tokenizer = AutoTokenizer.from_pretrained(CHAT_MODEL_NAME)\n",
        "len(tokenizer)"
      ]
    },
    {
      "cell_type": "code",
      "execution_count": 2,
      "metadata": {
        "output": {
          "id": 1225692682525802,
          "loadingStatus": "loaded"
        }
      },
      "outputs": [
        {
          "data": {
            "text/plain": [
              "[14990, 1879]"
            ]
          },
          "execution_count": 2,
          "metadata": {},
          "output_type": "execute_result"
        }
      ],
      "source": [
        "tokenizer.encode(\"hello world\")"
      ]
    },
    {
      "cell_type": "code",
      "execution_count": 3,
      "metadata": {
        "output": {
          "id": 1049230240407982,
          "loadingStatus": "loaded"
        }
      },
      "outputs": [
        {
          "name": "stderr",
          "output_type": "stream",
          "text": [
            "huggingface/tokenizers: The current process just got forked, after parallelism has already been used. Disabling parallelism to avoid deadlocks...\n",
            "To disable this warning, you can either:\n",
            "\t- Avoid using `tokenizers` before the fork if possible\n",
            "\t- Explicitly set the environment variable TOKENIZERS_PARALLELISM=(true | false)\n"
          ]
        },
        {
          "name": "stdout",
          "output_type": "stream",
          "text": [
            "Sun Apr 27 18:26:50 2025       \r\n",
            "+-----------------------------------------------------------------------------------------+\r\n",
            "| NVIDIA-SMI 550.90.07              Driver Version: 550.90.07      CUDA Version: 12.4     |\r\n",
            "|-----------------------------------------+------------------------+----------------------+\r\n",
            "| GPU  Name                 Persistence-M | Bus-Id          Disp.A | Volatile Uncorr. ECC |\r\n",
            "| Fan  Temp   Perf          Pwr:Usage/Cap |           Memory-Usage | GPU-Util  Compute M. |\r\n",
            "|                                         |                        |               MIG M. |\r\n",
            "|=========================================+========================+======================|\r\n",
            "|   0  NVIDIA PG509-210               On  |   00000000:C9:00.0 Off |                    0 |\r\n",
            "| N/A   36C    P0             70W /  330W |   39925MiB /  81920MiB |      0%      Default |\r\n",
            "|                                         |                        |             Disabled |\r\n",
            "+-----------------------------------------+------------------------+----------------------+\r\n"
          ]
        },
        {
          "name": "stdout",
          "output_type": "stream",
          "text": [
            "|   1  NVIDIA PG509-210               On  |   00000000:CA:00.0 Off |                    0 |\r\n",
            "| N/A   36C    P0             58W /  330W |       5MiB /  81920MiB |      0%      Default |\r\n",
            "|                                         |                        |             Disabled |\r\n",
            "+-----------------------------------------+------------------------+----------------------+\r\n",
            "|   2  NVIDIA PG509-210               On  |   00000000:CF:00.0 Off |                    0 |\r\n",
            "| N/A   33C    P0             56W /  330W |       5MiB /  81920MiB |      0%      Default |\r\n",
            "|                                         |                        |             Disabled |\r\n",
            "+-----------------------------------------+------------------------+----------------------+\r\n",
            "|   3  NVIDIA PG509-210               On  |   00000000:D0:00.0 Off |                    0 |\r\n",
            "| N/A   35C    P0             58W /  330W |       5MiB /  81920MiB |      0%      Default |\r\n",
            "|                                         |                        |             Disabled |\r\n",
            "+-----------------------------------------+------------------------+----------------------+\r\n",
            "|   4  NVIDIA PG509-210               On  |   00000000:D5:00.0 Off |                    0 |\r\n",
            "| N/A   33C    P0             56W /  330W |       5MiB /  81920MiB |      0%      Default |\r\n",
            "|                                         |                        |             Disabled |\r\n",
            "+-----------------------------------------+------------------------+----------------------+\r\n"
          ]
        },
        {
          "name": "stdout",
          "output_type": "stream",
          "text": [
            "|   5  NVIDIA PG509-210               On  |   00000000:D6:00.0 Off |                    0 |\r\n",
            "| N/A   36C    P0             58W /  330W |       5MiB /  81920MiB |      0%      Default |\r\n",
            "|                                         |                        |             Disabled |\r\n",
            "+-----------------------------------------+------------------------+----------------------+\r\n",
            "|   6  NVIDIA PG509-210               On  |   00000000:DB:00.0 Off |                    0 |\r\n",
            "| N/A   33C    P0             57W /  330W |       5MiB /  81920MiB |      0%      Default |\r\n",
            "|                                         |                        |             Disabled |\r\n",
            "+-----------------------------------------+------------------------+----------------------+\r\n",
            "|   7  NVIDIA PG509-210               On  |   00000000:DC:00.0 Off |                    0 |\r\n",
            "| N/A   35C    P0             57W /  330W |       5MiB /  81920MiB |      0%      Default |\r\n",
            "|                                         |                        |             Disabled |\r\n",
            "+-----------------------------------------+------------------------+----------------------+\r\n",
            "                                                                                         \r\n",
            "+-----------------------------------------------------------------------------------------+\r\n",
            "| Processes:                                                                              |\r\n",
            "|  GPU   GI   CI        PID   Type   Process name                              GPU Memory |\r\n",
            "|        ID   ID                                                               Usage      |\r\n",
            "|=========================================================================================|\r\n",
            "|    0   N/A  N/A   1615034      C   python                                      39910MiB |\r\n"
          ]
        },
        {
          "name": "stdout",
          "output_type": "stream",
          "text": [
            "+-----------------------------------------------------------------------------------------+\r\n"
          ]
        }
      ],
      "source": [
        "! nvidia-smi"
      ]
    },
    {
      "cell_type": "code",
      "execution_count": 4,
      "metadata": {},
      "outputs": [],
      "source": [
        "PROMPT_TEMPLATE = \"\"\"\n",
        "    Using the numbers {numbers}, create an equation that equals {target}.\n",
        "    You can use basic arithmetic operations (+, -, *, /) and each number can only be used once.\n",
        "    Show your work in <think> </think> tags. And return the final equation and answer in\n",
        "    <answer> </answer> tags, for example <answer>(1 + 2) / (3 * 5)</answer>.\n",
        "    \"\"\"\n"
      ]
    },
    {
      "cell_type": "code",
      "execution_count": 5,
      "metadata": {
        "output": {
          "id": 1404347490701122,
          "loadingStatus": "loaded"
        }
      },
      "outputs": [
        {
          "name": "stdout",
          "output_type": "stream",
          "text": [
            "\n",
            "    Using the numbers [7, 71, 19, 4], create an equation that equals 68.\n",
            "    You can use basic arithmetic operations (+, -, *, /) and each number can only be used once.\n",
            "    Show your work in <think> </think> tags. And return the final equation and answer in\n",
            "    <answer> </answer> tags, for example <answer>(1 + 2) / (3 * 5)</answer>.\n",
            "    \n"
          ]
        }
      ],
      "source": [
        "sample = {\"nums\": [7, 71, 19, 4], \"target\": 68}\n",
        "prompt = PROMPT_TEMPLATE.format(numbers=sample['nums'], target=sample['target'])\n",
        "print(prompt)"
      ]
    }
  ],
  "metadata": {
    "kernelspec": {
      "display_name": "deep_rl (local)",
      "language": "python",
      "name": "deep_rl_local"
    }
  }
}
